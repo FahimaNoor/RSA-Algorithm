{
  "nbformat": 4,
  "nbformat_minor": 0,
  "metadata": {
    "colab": {
      "provenance": [],
      "toc_visible": true
    },
    "kernelspec": {
      "name": "python3",
      "display_name": "Python 3"
    },
    "language_info": {
      "name": "python"
    }
  },
  "cells": [
    {
      "cell_type": "markdown",
      "source": [
        "# Part 1: Simple RSA (Encryption and Decryption)"
      ],
      "metadata": {
        "id": "GeSIirVAhFHr"
      }
    },
    {
      "cell_type": "markdown",
      "source": [
        "RSA is a asymmetric public-key encryption algorithm.\n",
        "In RSA, **d** is private key. **e** and **N** are public keys. Any two parties willing to communicate with each other will need to use these keys. Messages will be encrypted using the public keys of the partner. However, the message can only be decrypted using the private key of the intended receiver and no one else.\n",
        "\n",
        "\n",
        "---\n",
        "\n",
        "*RSA Key Generation:*\n",
        "\n",
        "1.   Two large prime numbers **p** and **q** are randomly generated.\n",
        "2.   N is calculated using **N=pq**.\n",
        "3.   phi_N calculated using **phi_N=(p-1)(q-1)**.\n",
        "4.   Public key **e** is generated such that it is **not a factor of phi_N**.\n",
        "5.   Private key d calculated using **d=e^-1 mod phi_N**\n",
        "\n",
        "*RSA Encryption:*\n",
        "\n",
        "The messages are encrypted for the partner using the following formula: **Encrypted_Message = PlainText^e mod N** , where e and N are the public key of the partner to whom the cipher text will be send to.\n",
        "\n",
        "\n",
        "*RSA Decryption:*\n",
        "\n",
        "The messages are decrypted using the following formula:\n",
        "  **Decrypted Message = Encrypted_Messaget^d mod N**, where e and N are the public key of the partner who received the cipher text (Encrypted_Message). To decrypt the ciphertext that obtained from my partner, I will use my private key d and my public key N.\n",
        "\n",
        "\n",
        "\n",
        "---\n",
        "\n",
        "\n",
        "RSA Digital Signature Scheme:\n",
        "Signature Scheme is needed to ensure that they are receiving data from the corrrect person. For this project, the overall working process of the scheme is as follows:\n",
        "\n",
        "1.   Both partners will create a signature on their messages using **S=M^d mod N**.\n",
        "2.   They will share the message(M) and the corresponding signature(S).\n",
        "3.   Partners will then verify the validity of the signature by computing **M1=S^e mod N** on their partner's signature. If the M1 matches the message(M) send by their partner then it can be said that the signature is valid.\n",
        "\n",
        "\n",
        "\n",
        "\n",
        "\n",
        "\n",
        "\n"
      ],
      "metadata": {
        "id": "BOYJP1MWf2G5"
      }
    },
    {
      "cell_type": "markdown",
      "source": [
        "## Generating Public and Private Keys"
      ],
      "metadata": {
        "id": "tSH5VDhI9eAF"
      }
    },
    {
      "cell_type": "code",
      "execution_count": 1,
      "metadata": {
        "id": "yFi5CuWqNw1g",
        "colab": {
          "base_uri": "https://localhost:8080/"
        },
        "outputId": "4f5b6148-84c9-46b6-981f-b40e7dbe45f2"
      },
      "outputs": [
        {
          "output_type": "stream",
          "name": "stdout",
          "text": [
            "p = 49463 P is Prime?: True\n",
            "q = 51059 Q is Prime?: True\n",
            "N = 2525531317\n",
            "ϕ(N) = 2525430796\n",
            "e = 173879093   GCD(phi_N, e) = 1\n",
            "The public keys are N = 2525531317 and e = 173879093 The private key is d = 1539027341\n"
          ]
        }
      ],
      "source": [
        "import random, math\n",
        "random.seed(0)  #using random seed to ensure this whole project will give the same result everytime\n",
        "\n",
        "#GCD function\n",
        "def gcd(a, b):\n",
        "    while b != 0:\n",
        "        (a, b) = (b, a % b)\n",
        "    return a\n",
        "\n",
        "#Checking if the number is prime function\n",
        "def is_Prime(n):\n",
        "    if (n % 2 == 0 and n > 2) or (n < 2):\n",
        "        return False\n",
        "    for i in range(3, int(math.sqrt(n)), 2):\n",
        "        if n % i == 0:\n",
        "            return False\n",
        "    return True\n",
        "\n",
        "#Creating the range for 16 digit number generation\n",
        "highestbit = int('1000000000000000', 2) #generating lowest and highest integers of 16 bit digits\n",
        "lowestbit =  int('1111111111111111', 2)\n",
        "\n",
        "#Generating two different large prime P and Q\n",
        "primes = [i for i in range(highestbit,lowestbit) if is_Prime(i)]\n",
        "p = random.choice(primes)\n",
        "q = random.choice(primes)\n",
        "if(p==q): q=random.choice(primes)\n",
        "\n",
        "#Calculating N and Phi_N\n",
        "N=p*q\n",
        "phi_N = (p-1)*(q-1)\n",
        "\n",
        "\n",
        "print('p =', p, 'P is Prime?:',is_Prime(p))\n",
        "print('q =', q,'Q is Prime?:',is_Prime(q))\n",
        "print('N =', N)\n",
        "print('ϕ(N) =',phi_N)\n",
        "\n",
        "#Generating the public key e\n",
        "e=random.randrange(1, phi_N) #this will generate values between 1 and phi_N(value greater than 1 and less than phi_N)\n",
        "while(gcd(phi_N, e)!=1): e=random.randrange(1, phi_N)\n",
        "print('e =', e, '  GCD(phi_N, e) =', gcd(phi_N, e))\n",
        "\n",
        "#Generating the private key d\n",
        "def extendedEuclideanGCD(a, b):\n",
        "    x = 1; y = 0; d = a; r = 0; s = 1; t = b\n",
        "    while(t > 0):\n",
        "        q = d//t\n",
        "        u = x-q*r\n",
        "        v = y-q*s\n",
        "        w = d-q*t\n",
        "        x = r\n",
        "        y = s\n",
        "        d = t\n",
        "        r = u\n",
        "        s = v\n",
        "        t = w\n",
        "    return d, x, y\n",
        "\n",
        "result = extendedEuclideanGCD(e, phi_N)    #d=e^-1 mod phi_N\n",
        "d=result[1]\n",
        "\n",
        "if(d<0): d=(phi_N+result[1]) %phi_N\n",
        "\n",
        "print('The public keys are N =',N,'and e =',e,'The private key is d =',d)"
      ]
    },
    {
      "cell_type": "markdown",
      "source": [
        "##Encryption/Decryption:"
      ],
      "metadata": {
        "id": "85hmbjULXydn"
      }
    },
    {
      "cell_type": "code",
      "source": [
        "#Square and Multiply Algorithm\n",
        "def square_multiply(a, b, c):\n",
        "  multiple=1\n",
        "  bits=bin(b).replace('0b', '')\n",
        "  length=len(bits)\n",
        "  result = a % c\n",
        "  multiple=1\n",
        "  i=0\n",
        "  for bit in reversed(bits):  #Reversed funtn is used as I want to interate the bits from backwards\n",
        "    if(i!=0):\n",
        "      result = result*result %c  #DON'T WANT THIS FOR THE FIRST BIT AS THE A%C IS ALREADY CALCULATED OUTSIDE THE LOOP\n",
        "    i=i+1                        #THIS i IS NEEDED TO PREVENT THE ABOVE STATEMENT FROM BEING RUN ONLY DURING THE FIRST BIT\n",
        "    if int(bit) != 0:          #SOMETHING WAS WRoNG WHEN I USED bit!=0 instead of int(bit). bit !=0 would be true for bit=0 thats why using int()\n",
        "      multiple=multiple*result    #Whenever bit=1 i multiply the values\n",
        "  return multiple%c"
      ],
      "metadata": {
        "id": "wDc35VqYo-cv"
      },
      "execution_count": 3,
      "outputs": []
    },
    {
      "cell_type": "markdown",
      "source": [
        "### A) Encryption:\n",
        "Sending an encrypted message to my Project partner"
      ],
      "metadata": {
        "id": "2rj4RvrpmJGA"
      }
    },
    {
      "cell_type": "code",
      "source": [
        "def encryption(N, power, plain_text):\n",
        "\n",
        "  # Turning my message into 3 character chunks\n",
        "  chunk_text = [plain_text[i:i+3] for i in range(0, len(plain_text), 3)]\n",
        "  print(\"My Message: \",my_string)\n",
        "  print(\"Messages into chunks: \",chunk_text)\n",
        "\n",
        "  # Turning each individual text chunks to their corresponding hexadecimal chunks\n",
        "  chunk_hex = []\n",
        "  for chunks in chunk_text:\n",
        "    #print(chunks)\n",
        "    text_to_int = chunks.encode('utf-8')\n",
        "    hex_str = text_to_int.hex()\n",
        "    #print(hex_str)\n",
        "    chunk_hex.append(hex_str)\n",
        "  print(\"Turning Chunks into HEX Values:\",chunk_hex)\n",
        "\n",
        "  # Turning each hexadecimal chunks to integer chunks\n",
        "  chunk_integers = []\n",
        "  for chunks in chunk_hex:\n",
        "    #print(chunks)\n",
        "    hex_to_int = int(chunks, 16)\n",
        "    chunk_integers.append(hex_to_int)\n",
        "  print(\"Turning Hex values into integers:\",chunk_integers)\n",
        "\n",
        "  # Turning each integer chunks to ciphertext integers using the formula c= m^e mod N. M is the integer chunks. e and N are partner's public keys\n",
        "  encrypted_message = []   #to encrypt the msg, the N and E value that will be used to encrypt will have to be of your partner\n",
        "  for chunks in chunk_integers:\n",
        "    #print(chunks)\n",
        "    cipher_val = square_multiply(chunks, power, N)  # c = m^e mod N,  e = power\n",
        "    encrypted_message.append(cipher_val)\n",
        "  print(\"Encrypted Message: \",encrypted_message)\n",
        "\n",
        "\n",
        "  return encrypted_message"
      ],
      "metadata": {
        "id": "UF3GlHi7HjlB"
      },
      "execution_count": 2,
      "outputs": []
    },
    {
      "cell_type": "code",
      "source": [
        "my_string = \"I wish to see the Aurora Borealis someday.\"\n",
        "partner_N =\t1724525471\n",
        "partner_e =\t1548545119\n",
        "my_message_encrypted = encryption(partner_N, partner_e, my_string)"
      ],
      "metadata": {
        "id": "0Ctq4sHyHxv4",
        "colab": {
          "base_uri": "https://localhost:8080/"
        },
        "outputId": "8179d48e-dd78-4367-86ae-2b2513fcb5be"
      },
      "execution_count": 4,
      "outputs": [
        {
          "output_type": "stream",
          "name": "stdout",
          "text": [
            "My Message:  I wish to see the Aurora Borealis someday.\n",
            "Messages into chunks:  ['I w', 'ish', ' to', ' se', 'e t', 'he ', 'Aur', 'ora', ' Bo', 'rea', 'lis', ' so', 'med', 'ay.']\n",
            "Turning Chunks into HEX Values: ['492077', '697368', '20746f', '207365', '652074', '686520', '417572', '6f7261', '20426f', '726561', '6c6973', '20736f', '6d6564', '61792e']\n",
            "Turning Hex values into integers: [4792439, 6910824, 2126959, 2126693, 6627444, 6841632, 4289906, 7303777, 2114159, 7497057, 7104883, 2126703, 7169380, 6388014]\n",
            "Encrypted Message:  [710642559, 1505287012, 526104350, 1349473478, 1167983707, 441756265, 1500779454, 673042567, 545545119, 351421923, 1620087107, 1020165487, 188114433, 927390040]\n"
          ]
        }
      ]
    },
    {
      "cell_type": "markdown",
      "source": [
        "### B) Decryption:\n",
        "Decrypting the message received from my Project partner"
      ],
      "metadata": {
        "id": "gecRnKl_taJy"
      }
    },
    {
      "cell_type": "code",
      "source": [
        "def decryption(N, power, cipher_text):\n",
        "\n",
        "  ciphertext = []\n",
        "  for chunks in cipher_text:  #the d and N value are the values of mine.\n",
        "    #print(chunks)\n",
        "    cipher_val = square_multiply(chunks, power, N)  #  m = c^d mod N, here d=power\n",
        "    ciphertext.append(cipher_val)\n",
        "  print(\"The cipher values from partener converted to integer:\", ciphertext)\n",
        "\n",
        "  # Turning each integers to hexadecimal chunks\n",
        "  partner_hexadecimal_chunks = []\n",
        "  for chunks in ciphertext:\n",
        "    int_to_hex = hex(chunks)\n",
        "    partner_hexadecimal_chunks.append(int_to_hex)\n",
        "  print(\"The hexadecimal values from those integer:\", partner_hexadecimal_chunks)\n",
        "\n",
        "  # Converting the hex values to their corresponding strings.\n",
        "  partner_string_text = []\n",
        "  for chunks in partner_hexadecimal_chunks:\n",
        "    #print(chunks)\n",
        "    hex_string = chunks.replace('0x', '')  #removing the 'Ox'\n",
        "    byte_string = bytes.fromhex(hex_string).decode('utf-8')  #converting the hex values to string\n",
        "    partner_string_text.append(byte_string)  #attaching each items to the list\n",
        "  print(\"The string chunks from hexadecimal:\", partner_string_text)\n",
        "\n",
        "  #join the text to create a complete text\n",
        "  decrypted_message = \"\".join(partner_string_text)\n",
        "  print(\"The Decrypted message:\", decrypted_message)\n",
        "\n",
        "  return decrypted_message"
      ],
      "metadata": {
        "id": "G9pvAK8JjMmC"
      },
      "execution_count": 6,
      "outputs": []
    },
    {
      "cell_type": "code",
      "source": [
        "cipher_text_received = \t [564941312, 2438733904, 459565689, 856100212, 1773844201, 1228048082, 27760366, 1587440285, 30142684]\n",
        "my_N = N #Here this N is my public Key\n",
        "\n",
        "partner_message_decrypted = decryption(my_N, d, cipher_text_received)"
      ],
      "metadata": {
        "id": "1k6ST8a01DES",
        "colab": {
          "base_uri": "https://localhost:8080/"
        },
        "outputId": "00dafeb1-f28c-4747-adae-84b6ac68a79d"
      },
      "execution_count": 7,
      "outputs": [
        {
          "output_type": "stream",
          "name": "stdout",
          "text": [
            "The cipher values from partener converted to integer: [4550243, 7502192, 7629167, 7217263, 6692982, 6910565, 7217270, 6910561, 28265]\n",
            "The hexadecimal values from those integer: ['0x456e63', '0x727970', '0x74696f', '0x6e206f', '0x662076', '0x697265', '0x6e2076', '0x697261', '0x6e69']\n",
            "The string chunks from hexadecimal: ['Enc', 'ryp', 'tio', 'n o', 'f v', 'ire', 'n v', 'ira', 'ni']\n",
            "The Decrypted message: Encryption of viren virani\n"
          ]
        }
      ]
    },
    {
      "cell_type": "markdown",
      "source": [
        "#Part 2: Signature/Verification"
      ],
      "metadata": {
        "id": "-jFYmLTetfZx"
      }
    },
    {
      "cell_type": "markdown",
      "source": [
        "##A) Signature:"
      ],
      "metadata": {
        "id": "WydS9-vl2kzE"
      }
    },
    {
      "cell_type": "markdown",
      "source": [
        "My Digital Signature is created using **S=M^d mod N** with my d and N value. M is the message.  \n"
      ],
      "metadata": {
        "id": "f4Nc6DF-PTFT"
      }
    },
    {
      "cell_type": "code",
      "source": [
        "# Signature is created by Me\n",
        "my_sign = \"Fahima Noor\"\n",
        "my_signature = encryption(my_N, d, my_sign)"
      ],
      "metadata": {
        "id": "jjwYUAtif_6P",
        "colab": {
          "base_uri": "https://localhost:8080/"
        },
        "outputId": "46f570b5-6d4b-4d25-81f5-ed5dd172413f"
      },
      "execution_count": 8,
      "outputs": [
        {
          "output_type": "stream",
          "name": "stdout",
          "text": [
            "My Message:  I wish to see the Aurora Borealis someday.\n",
            "Messages into chunks:  ['Fah', 'ima', ' No', 'or']\n",
            "Turning Chunks into HEX Values: ['466168', '696d61', '204e6f', '6f72']\n",
            "Turning Hex values into integers: [4612456, 6909281, 2117231, 28530]\n",
            "Encrypted Message:  [950301236, 1743847582, 2081717385, 1043079059]\n"
          ]
        }
      ]
    },
    {
      "cell_type": "markdown",
      "source": [
        "## B) Verification:"
      ],
      "metadata": {
        "id": "NXtlAgerSB53"
      }
    },
    {
      "cell_type": "markdown",
      "source": [
        "My Partner's Signature is verified using **M1=S^e mod N** with their e and N value. I will check whether their message M on which they have signed on matches the M1 value that I have obtained using their Signature."
      ],
      "metadata": {
        "id": "NbA6KNAopzSV"
      }
    },
    {
      "cell_type": "code",
      "source": [
        "# verfiy the signature\n",
        "partner_signed_message = \"viren virani\"\n",
        "partner_Signature = [944279938, 511933836, 944279938, 1151309101]\n",
        "partner_N =\t1724525471\n",
        "partner_e = 1548545119\n",
        "\n",
        "partner_signature_decrypted = decryption(partner_N, partner_e, partner_Signature)  #M1=S^e mod N\n",
        "\n",
        "\n",
        "if(partner_signed_message == partner_signature_decrypted): result=True\n",
        "else: result= False\n",
        "\n",
        "print(\"Is The Signature Valid:\", result)"
      ],
      "metadata": {
        "id": "XXns2jKFLd5c",
        "colab": {
          "base_uri": "https://localhost:8080/"
        },
        "outputId": "a44ce252-338d-4530-b7ec-378c29046daf"
      },
      "execution_count": 9,
      "outputs": [
        {
          "output_type": "stream",
          "name": "stdout",
          "text": [
            "The cipher values from partener converted to integer: [7760242, 6647328, 7760242, 6385257]\n",
            "The hexadecimal values from those integer: ['0x766972', '0x656e20', '0x766972', '0x616e69']\n",
            "The string chunks from hexadecimal: ['vir', 'en ', 'vir', 'ani']\n",
            "The Decrypted message: viren virani\n",
            "Is The Signature Valid: True\n"
          ]
        }
      ]
    }
  ]
}